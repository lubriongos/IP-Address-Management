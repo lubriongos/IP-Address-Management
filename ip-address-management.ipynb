{
 "cells": [
  {
   "cell_type": "code",
   "execution_count": 6,
   "metadata": {},
   "outputs": [
    {
     "name": "stdout",
     "output_type": "stream",
     "text": [
      "Error: File 'allow_lst.txt' not found.\n"
     ]
    },
    {
     "data": {
      "text/plain": [
       "'\\nwith open(\"allow_list.txt\", \"r\") as file:\\n    updated_content = file.read()\\nprint(\"Updated Content:\", updated_content)\\n\\n# Example of adding a new IP address to the file\\nadd_ip_to_file(\"allow_list.txt\", \"192.168.0.1\")\\n'"
      ]
     },
     "execution_count": 6,
     "metadata": {},
     "output_type": "execute_result"
    }
   ],
   "source": [
    "# Reads IP addresses from a file and returns a list\n",
    "def read_ip_addresses(file_path):\n",
    "    try:\n",
    "        with open(file_path, \"r\") as file:\n",
    "            # Path to the file containing IP addresses\n",
    "            ip_addresses = file.read()            \n",
    "    except FileNotFoundError:\n",
    "        print(f\"Error: File '{file_path}' not found.\")\n",
    "        return None\n",
    "    # List of IP addresses or None if file is not found\n",
    "    return ip_addresses.split()\n",
    "\n",
    "# Updates a file by removing specified IP addresses\n",
    "def update_file(import_file, remove_list):\n",
    "    # param import_file: Path to the file to be updated\n",
    "    # param remove_list: List of IP addresses to be removed\n",
    "\n",
    "    ip_addresses = read_ip_addresses(import_file)\n",
    "    if ip_addresses is None:\n",
    "        return\n",
    "\n",
    "    # Make the comparison case-insensitive\n",
    "    for ip_to_remove in remove_list:\n",
    "        if ip_to_remove.lower() in map(str.lower, ip_addresses):\n",
    "            ip_addresses = [ip for ip in ip_addresses if ip.lower() != ip_to_remove.lower()]\n",
    "        else:\n",
    "            print(f\"Warning: IP address '{ip_to_remove}' not found in the list. It won't be removed.\")\n",
    "\n",
    "    # Convert ip_addresses back to a string\n",
    "    updated_content = \" \".join(ip_addresses)\n",
    "\n",
    "    try:\n",
    "        # Write the updated content back to the file\n",
    "        with open(import_file, \"w\") as file:\n",
    "            file.write(updated_content)\n",
    "    except Exception as e:\n",
    "        print(f\"Error writing to file: {e}\")\n",
    "\n",
    "# Adds a new IP address to the file\n",
    "def add_ip_to_file(file_path, new_ip):\n",
    "    # param file_path: Path to the file to which the IP address should be added.\n",
    "    # param new_ip: New IP address to be added.\n",
    "\n",
    "    ip_addresses = read_ip_addresses(file_path)\n",
    "    if ip_addresses is None:\n",
    "        return\n",
    "\n",
    "    ip_addresses.append(new_ip)\n",
    "\n",
    "    try:\n",
    "        # Write the updated content back to the file\n",
    "        with open(file_path, \"w\") as file:\n",
    "            file.write(\" \".join(ip_addresses))\n",
    "    except Exception as e:\n",
    "        print(f\"Error writing to file: {e}\")\n",
    "\n",
    "\n",
    "# Example usage\n",
    "update_file(\"allow_list.txt\", [\"192.168.69.116\"])\n",
    "\n",
    "# Read and display the updated file\n",
    "\n",
    "with open(\"allow_list.txt\", \"r\") as file:\n",
    "    updated_content = file.read()\n",
    "print(\"Updated Content:\", updated_content)\n",
    "\n",
    "# Example of adding a new IP address to the file\n",
    "add_ip_to_file(\"allow_list.txt\", \"192.168.0.1\")\n"
   ]
  }
 ],
 "metadata": {
  "kernelspec": {
   "display_name": "base",
   "language": "python",
   "name": "python3"
  },
  "language_info": {
   "codemirror_mode": {
    "name": "ipython",
    "version": 3
   },
   "file_extension": ".py",
   "mimetype": "text/x-python",
   "name": "python",
   "nbconvert_exporter": "python",
   "pygments_lexer": "ipython3",
   "version": "3.8.3"
  },
  "orig_nbformat": 4
 },
 "nbformat": 4,
 "nbformat_minor": 2
}
